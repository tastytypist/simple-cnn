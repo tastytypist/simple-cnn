{
 "cells": [
  {
   "cell_type": "code",
   "execution_count": null,
   "id": "initial_id",
   "metadata": {
    "collapsed": true
   },
   "outputs": [],
   "source": [
    "import copy\n",
    "import json\n",
    "import math\n",
    "\n",
    "from typing import Any"
   ]
  },
  {
   "cell_type": "code",
   "execution_count": null,
   "outputs": [],
   "source": [
    "class Model:\n",
    "    def __init__(\n",
    "        self,\n",
    "        input_size: list[list[int]],\n",
    "        padding_size: int,\n",
    "        weight: list[list[list[int]]],\n",
    "        conv_filter_count: int,\n",
    "        conv_filter_size: list[tuple[int]],\n",
    "        conv_stride_size: list[int],\n",
    "        pool_filter_size: tuple[int],\n",
    "        pool_stride_size: int,\n",
    "        pool_mode: str,\n",
    "        dense_unit_count: int,\n",
    "        dense_activation: str,\n",
    "    ) -> None:\n",
    "        self._input_size = input_size\n",
    "        self._padding_size = padding_size\n",
    "        self._weight = weight\n",
    "        self._conv_filter_count = conv_filter_count\n",
    "        self._conv_filter_size = conv_filter_size\n",
    "        self._conv_stride_size = conv_stride_size\n",
    "        self._pool_filter_size = pool_filter_size\n",
    "        self._pool_stride_size = pool_stride_size\n",
    "        self._pool_mode = pool_mode\n",
    "        self._dense_unit_count = dense_unit_count\n",
    "        self._dense_activation = dense_activation\n",
    "\n",
    "    def convolute(self) -> None:\n",
    "        pass\n",
    "\n",
    "    def detect(self) -> None:\n",
    "        pass\n",
    "\n",
    "    def pool(self) -> None:\n",
    "        pass\n",
    "\n",
    "    def dense(self) -> None:\n",
    "        pass\n",
    "\n",
    "    def flatten(self) -> None:\n",
    "        pass\n",
    "\n",
    "    def feedforward(self) -> None:\n",
    "        self.convolute()\n",
    "        self.detect()\n",
    "        self.pool()\n",
    "        self.dense()\n",
    "        self.flatten()"
   ],
   "metadata": {
    "collapsed": false
   },
   "id": "f02c9b42b191374"
  }
 ],
 "metadata": {
  "kernelspec": {
   "display_name": "Python 3",
   "language": "python",
   "name": "python3"
  },
  "language_info": {
   "codemirror_mode": {
    "name": "ipython",
    "version": 2
   },
   "file_extension": ".py",
   "mimetype": "text/x-python",
   "name": "python",
   "nbconvert_exporter": "python",
   "pygments_lexer": "ipython2",
   "version": "2.7.6"
  }
 },
 "nbformat": 4,
 "nbformat_minor": 5
}
